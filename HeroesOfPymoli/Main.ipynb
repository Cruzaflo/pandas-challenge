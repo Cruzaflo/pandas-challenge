{
 "cells": [
  {
   "cell_type": "code",
   "execution_count": 40,
   "metadata": {},
   "outputs": [
    {
     "name": "stdout",
     "output_type": "stream",
     "text": [
      "<bound method IndexOpsMixin.nunique of 0            Lisim78\n",
      "1        Lisovynya38\n",
      "2         Ithergue48\n",
      "3      Chamassasya86\n",
      "4          Iskosia90\n",
      "           ...      \n",
      "775       Aethedru70\n",
      "776           Iral74\n",
      "777       Yathecal72\n",
      "778          Sisur91\n",
      "779        Ennrian78\n",
      "Name: SN, Length: 780, dtype: object>\n"
     ]
    }
   ],
   "source": [
    "import pandas as pd\n",
    "file = \"Resources/purchase_data.csv\"\n",
    "\n",
    "purchases_df = pd.read_csv(file)\n",
    "purchases_df.head()\n",
    "\n",
    "#Total players\n",
    "players = purchases_df['SN'].nunique\n",
    "\n",
    "total_players = pd.DataFrame({\"Total Players\": [players]})\n",
    "\n",
    "print(players)\n"
   ]
  },
  {
   "cell_type": "code",
   "execution_count": null,
   "metadata": {},
   "outputs": [],
   "source": []
  }
 ],
 "metadata": {
  "kernelspec": {
   "display_name": "Python 3",
   "language": "python",
   "name": "python3"
  },
  "language_info": {
   "codemirror_mode": {
    "name": "ipython",
    "version": 3
   },
   "file_extension": ".py",
   "mimetype": "text/x-python",
   "name": "python",
   "nbconvert_exporter": "python",
   "pygments_lexer": "ipython3",
   "version": "3.7.6"
  }
 },
 "nbformat": 4,
 "nbformat_minor": 4
}
