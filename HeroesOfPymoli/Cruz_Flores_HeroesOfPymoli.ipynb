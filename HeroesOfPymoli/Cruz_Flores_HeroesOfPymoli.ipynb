{
 "cells": [
  {
   "cell_type": "markdown",
   "metadata": {},
   "source": [
    "### Note\n",
    "* Instructions have been included for each segment. You do not have to follow them exactly, but they are included to help you think through the steps."
   ]
  },
  {
   "cell_type": "code",
   "execution_count": null,
   "metadata": {},
   "outputs": [],
   "source": [
    "# Dependencies and Setup\n",
    "import pandas as pd\n",
    "\n",
    "# File to Load (Remember to Change These)\n",
    "file_to_load = \"Resources/purchase_data.csv\"\n",
    "\n",
    "# Read Purchasing File and store into Pandas data frame\n",
    "purchase_data_df = pd.read_csv(file_to_load)\n",
    "\n",
    "purchase_data_df.head()"
   ]
  },
  {
   "cell_type": "markdown",
   "metadata": {},
   "source": [
    "## Player Count"
   ]
  },
  {
   "cell_type": "markdown",
   "metadata": {},
   "source": [
    "* Display the total number of players\n"
   ]
  },
  {
   "cell_type": "code",
   "execution_count": null,
   "metadata": {},
   "outputs": [],
   "source": [
    "total_players = purchase_data_df[\"SN\"].nunique()\n",
    "pd.DataFrame({\"Total Players\": [total_players] })\n",
    "#purchase_data_df.columns"
   ]
  },
  {
   "cell_type": "markdown",
   "metadata": {},
   "source": [
    "## Purchasing Analysis (Total)"
   ]
  },
  {
   "cell_type": "markdown",
   "metadata": {},
   "source": [
    "* Run basic calculations to obtain number of unique items, average price, etc.\n",
    "\n",
    "\n",
    "* Create a summary data frame to hold the results\n",
    "\n",
    "\n",
    "* Optional: give the displayed data cleaner formatting\n",
    "\n",
    "\n",
    "* Display the summary data frame\n"
   ]
  },
  {
   "cell_type": "code",
   "execution_count": null,
   "metadata": {
    "scrolled": true
   },
   "outputs": [],
   "source": [
    "total_items = purchase_data_df[\"Item Name\"].nunique()\n",
    "\n",
    "average_price = purchase_data_df[\"Price\"].mean()\n",
    "\n",
    "total_purchases = purchase_data_df[\"Purchase ID\"].nunique()\n",
    "\n",
    "total_revenue = purchase_data_df[\"Price\"].sum()\n",
    "\n",
    "purchase_analysis_summary = pd.DataFrame({\n",
    "    \"Total Items\": [total_items],\n",
    "    \"Average Item Price\": [average_price],\n",
    "    \"Total Purchases\": [total_purchases],\n",
    "    \"Total Revenue\": [total_revenue],\n",
    "})\n",
    "\n",
    "#Formatting\n",
    "purchase_analysis_summary[\"Average Item Price\"] = purchase_analysis_summary[\"Average Item Price\"].map(\"${:,.2f}\".format)\n",
    "purchase_analysis_summary[\"Total Revenue\"] = purchase_analysis_summary[\"Total Revenue\"].map(\"${:,.2f}\".format)\n",
    "#preview\n",
    "purchase_analysis_summary"
   ]
  },
  {
   "cell_type": "markdown",
   "metadata": {},
   "source": [
    "## Gender Demographics"
   ]
  },
  {
   "cell_type": "markdown",
   "metadata": {},
   "source": [
    "* Percentage and Count of Male Players\n",
    "\n",
    "\n",
    "* Percentage and Count of Female Players\n",
    "\n",
    "\n",
    "* Percentage and Count of Other / Non-Disclosed\n",
    "\n",
    "\n"
   ]
  },
  {
   "cell_type": "code",
   "execution_count": null,
   "metadata": {},
   "outputs": [],
   "source": [
    "individual_purchases = purchase_data_df.drop_duplicates(\"SN\")\n",
    "\n",
    "individual_count = individual_purchases[\"SN\"].nunique()\n",
    "\n",
    "gender_totals = individual_purchases[\"Gender\"].value_counts()\n",
    "\n",
    "gender_percentages = gender_totals / individual_count\n",
    "\n",
    "gender_stats = pd.DataFrame({\n",
    "    \"Total\": gender_totals,\n",
    "    \"Percentage\": gender_percentages\n",
    "})\n",
    "\n",
    "gender_stats[\"Percentage\"] = gender_stats[\"Percentage\"].map(\"{:,.2%}\".format)\n",
    "\n",
    "#preview\n",
    "gender_stats"
   ]
  },
  {
   "cell_type": "markdown",
   "metadata": {},
   "source": [
    "\n",
    "## Purchasing Analysis (Gender)"
   ]
  },
  {
   "cell_type": "markdown",
   "metadata": {},
   "source": [
    "* Run basic calculations to obtain purchase count, avg. purchase price, avg. purchase total per person etc. by gender\n",
    "\n",
    "\n",
    "\n",
    "\n",
    "* Create a summary data frame to hold the results\n",
    "\n",
    "\n",
    "* Optional: give the displayed data cleaner formatting\n",
    "\n",
    "\n",
    "* Display the summary data frame"
   ]
  },
  {
   "cell_type": "code",
   "execution_count": null,
   "metadata": {},
   "outputs": [],
   "source": [
    "#gender purchase count\n",
    "gender_count = purchase_data_df.groupby([\"Gender\"]).count()[\"SN\"]\n",
    "gender_count = gender_count.rename({\"SN\": \"Purchase Count\"})\n",
    "\n",
    "#gender average purchase price\n",
    "gender_average = purchase_data_df.groupby([\"Gender\"]).mean()[\"Price\"]\n",
    "gender_average = gender_average.rename({\"Price\": \"Average Purchase Price\"})\n",
    "\n",
    "#total purchase value\n",
    "purchase_total = purchase_data_df.groupby([\"Gender\"]).sum()[\"Price\"]\n",
    "purchase_total = purchase_total.rename({\"Price\": \"Total Purchase Value\"})\n",
    "\n",
    "#Avg Total Purchase per Person\n",
    "average_per_person = purchase_data_df.groupby([\"Gender\", \"SN\"]).sum()\n",
    "average_per_person = average_per_person.groupby([\"Gender\"]).mean()[\"Price\"]\n",
    "average_per_person = average_per_person.rename({\"Price\": \"Avg Total Purchase per Person\"})\n",
    "\n",
    "#Summary\n",
    "gender_analysis = pd.DataFrame({\n",
    "    \"Purchase Count\": gender_count, \n",
    "    \"Average Purchase Price\": gender_average, \n",
    "    \"Total Purchase Value\": purchase_total, \n",
    "    \"Avg Total Purchase per Person\": average_per_person\n",
    "})\n",
    "\n",
    "#formatting\n",
    "gender_analysis[\"Average Purchase Price\"] = gender_analysis[\"Average Purchase Price\"].map(\"${:,.2f}\".format)\n",
    "gender_analysis[\"Total Purchase Value\"] = gender_analysis[\"Total Purchase Value\"].map(\"${:,.2f}\".format)\n",
    "gender_analysis[\"Avg Total Purchase per Person\"] = gender_analysis[\"Avg Total Purchase per Person\"].map(\"${:,.2f}\".format)\n",
    "\n",
    "#preview\n",
    "gender_analysis"
   ]
  },
  {
   "cell_type": "markdown",
   "metadata": {},
   "source": [
    "## Age Demographics"
   ]
  },
  {
   "cell_type": "markdown",
   "metadata": {},
   "source": [
    "* Establish bins for ages\n",
    "\n",
    "\n",
    "* Categorize the existing players using the age bins. Hint: use pd.cut()\n",
    "\n",
    "\n",
    "* Calculate the numbers and percentages by age group\n",
    "\n",
    "\n",
    "* Create a summary data frame to hold the results\n",
    "\n",
    "\n",
    "* Optional: round the percentage column to two decimal points\n",
    "\n",
    "\n",
    "* Display Age Demographics Table\n"
   ]
  },
  {
   "cell_type": "code",
   "execution_count": null,
   "metadata": {},
   "outputs": [],
   "source": [
    "#binning\n",
    "bins = [0, 9, 14, 19, 24, 29, 34, 39, 100]\n",
    "age_range = [\"<10\", \"10-14\", \"15-19\", \"20-24\", \"25-29\", \"30-34\", \"35-39\", \"40+\"]\n",
    "individual_purchases[\"Age Range\"] = pd.cut(individual_purchases[\"Age\"], bins, labels=age_range)\n",
    "\n",
    "#Total Purchases by age range\n",
    "total_purchases_age = individual_purchases.groupby([\"Age Range\"]).count()[\"SN\"]\n",
    "total_purchases_age = total_purchases_age.rename({\"SN\": \"Total Count\"})\n",
    "\n",
    "#Percentage of players by age\n",
    "percent_by_age = individual_purchases.groupby([\"Age Range\"]).count() / total_players \n",
    "percent_by_age = percent_by_age[\"SN\"]\n",
    "\n",
    "#Summary\n",
    "age_analysis = pd.DataFrame({\n",
    "    \"Total Count\": total_purchases_age,\n",
    "    \"Percentage of Players\": percent_by_age\n",
    "})\n",
    "\n",
    "#formatting\n",
    "age_analysis[\"Percentage of Players\"] = age_analysis[\"Percentage of Players\"].map(\"{:,.2%}\".format)\n",
    "\n",
    "#preview\n",
    "age_analysis"
   ]
  },
  {
   "cell_type": "markdown",
   "metadata": {},
   "source": [
    "##Purchasing Analysis (Age)"
   ]
  },
  {
   "cell_type": "markdown",
   "metadata": {},
   "source": [
    "* Bin the purchase_data data frame by age\n",
    "\n",
    "\n",
    "* Run basic calculations to obtain purchase count, avg. purchase price, avg. purchase total per person etc. in the table below\n",
    "\n",
    "\n",
    "* Create a summary data frame to hold the results\n",
    "\n",
    "\n",
    "* Optional: give the displayed data cleaner formatting\n",
    "\n",
    "\n",
    "* Display the summary data frame"
   ]
  },
  {
   "cell_type": "code",
   "execution_count": null,
   "metadata": {},
   "outputs": [],
   "source": [
    "#Binning\n",
    "bins = [0, 9, 14, 19, 24, 29, 34, 39, 100]\n",
    "age_range = [\"<10\", \"10-14\", \"15-19\", \"20-24\", \"25-29\", \"30-34\", \"35-39\", \"40+\"]\n",
    "purchase_data_df[\"Age Range\"] = pd.cut(purchase_data_df[\"Age\"], bins, labels=age_range)\n",
    "\n",
    "#purchase count\n",
    "purchase_count = purchase_data_df.groupby([\"Age Range\"]).count()[\"Price\"]\n",
    "\n",
    "#Average purchase price\n",
    "average_price = purchase_data_df.groupby([\"Age Range\"]).mean()[\"Price\"]\n",
    "\n",
    "#Total Purchase\n",
    "total_purchase = purchase_data_df.groupby([\"Age Range\"]).sum()[\"Price\"]\n",
    "\n",
    "#Avg Total Purchase per Person\n",
    "average_per_person = total_purchase / total_purchases_age\n",
    "\n",
    "#Summary\n",
    "age_analysis_summary = pd.DataFrame({\n",
    "    \"Purchase Count\": purchase_count,\n",
    "    \"Average Purchase Price\": average_price,\n",
    "    \"Total Purchase Value\": total_purchase,\n",
    "    \"Avg Total Purchase per Person\": average_per_person,\n",
    "})\n",
    "\n",
    "#Format\n",
    "age_analysis_summary[\"Average Purchase Price\"] = age_analysis_summary[\"Average Purchase Price\"].map(\"${:,.2f}\".format)\n",
    "age_analysis_summary[\"Total Purchase Value\"] = age_analysis_summary[\"Total Purchase Value\"].map(\"${:,.2f}\".format)\n",
    "age_analysis_summary[\"Avg Total Purchase per Person\"] = age_analysis_summary[\"Avg Total Purchase per Person\"].map(\"${:,.2f}\".format)\n",
    "\n",
    "#Preview\n",
    "age_analysis_summary"
   ]
  },
  {
   "cell_type": "markdown",
   "metadata": {},
   "source": [
    "## Top Spenders"
   ]
  },
  {
   "cell_type": "markdown",
   "metadata": {},
   "source": [
    "* Run basic calculations to obtain the results in the table below\n",
    "\n",
    "\n",
    "* Create a summary data frame to hold the results\n",
    "\n",
    "\n",
    "* Sort the total purchase value column in descending order\n",
    "\n",
    "\n",
    "* Optional: give the displayed data cleaner formatting\n",
    "\n",
    "\n",
    "* Display a preview of the summary data frame\n",
    "\n"
   ]
  },
  {
   "cell_type": "code",
   "execution_count": null,
   "metadata": {},
   "outputs": [],
   "source": [
    "#purchase count\n",
    "player_purchase_count = purchase_data_df.groupby([\"SN\"]).count()[\"Price\"]\n",
    "\n",
    "#purchase total\n",
    "player_purchase_total = purchase_data_df.groupby([\"SN\"]).sum()[\"Price\"]\n",
    "\n",
    "#Player perchase average\n",
    "player_purchase_average = player_purchase_total / player_purchase_count\n",
    "\n",
    "\n",
    "#Summary\n",
    "top_spenders = pd.DataFrame({\n",
    "    \"Purchase Count\": player_purchase_count,\n",
    "    \"Average Purchase Price\": player_purchase_average,\n",
    "    \"Total Purchase Value\": player_purchase_total\n",
    "})\n",
    "\n",
    "#Sort\n",
    "top_spenders = top_spenders.sort_values([\"Total Purchase Value\"], ascending=False)\n",
    "\n",
    "#Formatting\n",
    "top_spenders[\"Total Purchase Value\"] = top_spenders[\"Total Purchase Value\"].map(\"${:,.2f}\".format)\n",
    "top_spenders[\"Average Purchase Price\"] = top_spenders[\"Average Purchase Price\"].map(\"${:,.2f}\".format)\n",
    "                                                                                \n",
    "#Preview                                                                               \n",
    "top_spenders"
   ]
  },
  {
   "cell_type": "markdown",
   "metadata": {},
   "source": [
    "## Most Popular Items"
   ]
  },
  {
   "cell_type": "markdown",
   "metadata": {},
   "source": [
    "* Retrieve the Item ID, Item Name, and Item Price columns\n",
    "\n",
    "\n",
    "* Group by Item ID and Item Name. Perform calculations to obtain purchase count, item price, and total purchase value\n",
    "\n",
    "\n",
    "* Create a summary data frame to hold the results\n",
    "\n",
    "\n",
    "* Sort the purchase count column in descending order\n",
    "\n",
    "\n",
    "* Optional: give the displayed data cleaner formatting\n",
    "\n",
    "\n",
    "* Display a preview of the summary data frame\n",
    "\n"
   ]
  },
  {
   "cell_type": "code",
   "execution_count": null,
   "metadata": {},
   "outputs": [],
   "source": [
    "popular_items = purchase_data_df.loc[:, [\"Item ID\",\"Item Name\",\"Price\"]]\n",
    "\n",
    "#Purchase Count\n",
    "popular_items_count = popular_items.groupby([\"Item ID\", \"Item Name\"]).count()[\"Price\"]\n",
    "\n",
    "#Item Price\n",
    "popular_items_price = popular_items.groupby([\"Item ID\", \"Item Name\"]).mean()[\"Price\"]\n",
    "\n",
    "#Total Purchase Value\n",
    "popular_items_total = popular_items.groupby([\"Item ID\", \"Item Name\"]).sum()[\"Price\"]\n",
    "\n",
    "#Summary\n",
    "popular_item_summary = pd.DataFrame({\n",
    "    \"Purchase Count\": popular_items_count,\n",
    "    \"Item Price\": popular_items_price,\n",
    "    \"Total Purchase Value\": popular_items_total\n",
    "})\n",
    "\n",
    "#sort\n",
    "popular_item_total_sort = popular_item_summary.sort_values([\"Purchase Count\"], ascending=False)\n",
    "\n",
    "#Formatting\n",
    "popular_item_total_sort[\"Item Price\"] = popular_item_total_sort[\"Item Price\"].map(\"${:,.2f}\".format)\n",
    "popular_item_total_sort[\"Total Purchase Value\"] = popular_item_total_sort[\"Total Purchase Value\"].map(\"${:,.2f}\".format)\n",
    "\n",
    "#Preivew\n",
    "popular_item_total_sort"
   ]
  },
  {
   "cell_type": "markdown",
   "metadata": {},
   "source": [
    "## Most Profitable Items"
   ]
  },
  {
   "cell_type": "markdown",
   "metadata": {},
   "source": [
    "* Sort the above table by total purchase value in descending order\n",
    "\n",
    "\n",
    "* Optional: give the displayed data cleaner formatting\n",
    "\n",
    "\n",
    "* Display a preview of the data frame\n",
    "\n"
   ]
  },
  {
   "cell_type": "code",
   "execution_count": null,
   "metadata": {
    "scrolled": true
   },
   "outputs": [],
   "source": [
    "#sort\n",
    "popular_item_total_purchase = popular_item_summary.sort_values([\"Total Purchase Value\"], ascending=False)\n",
    "\n",
    "#Formatting\n",
    "popular_item_total_purchase[\"Item Price\"] = popular_item_total_purchase[\"Item Price\"].map(\"${:,.2f}\".format)\n",
    "popular_item_total_purchase[\"Total Purchase Value\"] = popular_item_total_purchase[\"Total Purchase Value\"].map(\"${:,.2f}\".format)\n",
    "\n",
    "#preview\n",
    "popular_item_total_purchase"
   ]
  },
  {
   "cell_type": "code",
   "execution_count": null,
   "metadata": {},
   "outputs": [],
   "source": []
  }
 ],
 "metadata": {
  "anaconda-cloud": {},
  "kernel_info": {
   "name": "python3"
  },
  "kernelspec": {
   "display_name": "Python 3",
   "language": "python",
   "name": "python3"
  },
  "language_info": {
   "codemirror_mode": {
    "name": "ipython",
    "version": 3
   },
   "file_extension": ".py",
   "mimetype": "text/x-python",
   "name": "python",
   "nbconvert_exporter": "python",
   "pygments_lexer": "ipython3",
   "version": "3.7.6"
  },
  "latex_envs": {
   "LaTeX_envs_menu_present": true,
   "autoclose": false,
   "autocomplete": true,
   "bibliofile": "biblio.bib",
   "cite_by": "apalike",
   "current_citInitial": 1,
   "eqLabelWithNumbers": true,
   "eqNumInitial": 1,
   "hotkeys": {
    "equation": "Ctrl-E",
    "itemize": "Ctrl-I"
   },
   "labels_anchors": false,
   "latex_user_defs": false,
   "report_style_numbering": false,
   "user_envs_cfg": false
  },
  "nteract": {
   "version": "0.2.0"
  }
 },
 "nbformat": 4,
 "nbformat_minor": 2
}
